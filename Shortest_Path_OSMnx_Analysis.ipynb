{
 "cells": [
  {
   "cell_type": "markdown",
   "id": "9fa9160f",
   "metadata": {},
   "source": [
    "# Part B: Shortest Path"
   ]
  },
  {
   "cell_type": "markdown",
   "id": "45b51d95",
   "metadata": {},
   "source": [
    "### Procedure\n",
    "1. Select a city and save its street network in a Python graph G.\n",
    "2. Plot the street network\n",
    "3. Define a function named RoutePlan that receives the following parameters:\n",
    "- a) Graph G.\n",
    "- b) Depot location D\n",
    "- c) A list L with the delivery locations.\n",
    "\n",
    "4. RoutePlan returns the route that will complete the deliveries in the shortest possible time.\n",
    "5. Plot a map of the street network of the selected city with the route highlighted."
   ]
  },
  {
   "cell_type": "markdown",
   "id": "c7c9d547",
   "metadata": {},
   "source": [
    "# 1. Select a city and save its street network in a Python graph G."
   ]
  },
  {
   "cell_type": "code",
   "execution_count": null,
   "id": "aa8b00c5",
   "metadata": {},
   "outputs": [],
   "source": [
    "# importing the relevant libraries\n",
    "\n",
    "import pandas as pd\n",
    "import geopandas as gpd\n",
    "import osmnx as ox\n",
    "import networkx as nx\n",
    "import folium"
   ]
  },
  {
   "cell_type": "code",
   "execution_count": null,
   "id": "5f1eb7a0",
   "metadata": {},
   "outputs": [],
   "source": [
    "# obtaining the driving street networking within 3000m of the Richmond, a suburb in East Melbourne\n",
    "G = ox.graph_from_address('Richmond, Melbourne', network_type='drive', dist = 3000)"
   ]
  },
  {
   "cell_type": "markdown",
   "id": "b35d44f2",
   "metadata": {},
   "source": [
    "# 2. Plot the street network"
   ]
  },
  {
   "cell_type": "code",
   "execution_count": null,
   "id": "b81322bc",
   "metadata": {},
   "outputs": [],
   "source": [
    "# plotting the street network\n",
    "ox.plot_graph(G, node_size=5)"
   ]
  },
  {
   "cell_type": "code",
   "execution_count": null,
   "id": "14f14f75",
   "metadata": {},
   "outputs": [],
   "source": [
    "# plotting the street network on an interactive map using folium\n",
    "st_net_m = ox.folium.plot_graph_folium(G, graph_map=None, popup_attribute='name')\n",
    "st_net_m"
   ]
  },
  {
   "cell_type": "markdown",
   "id": "46a33e6b",
   "metadata": {},
   "source": [
    "# 3. Define a function named RoutePlan that receives the following parameters:\n",
    "## a) Graph G,  b) Depot location D,  c) A list L with the delivery locations."
   ]
  },
  {
   "cell_type": "markdown",
   "id": "a1e7cafa",
   "metadata": {},
   "source": [
    "### Data manipulation and cleaning\n",
    "Exploring the street network data"
   ]
  },
  {
   "cell_type": "code",
   "execution_count": null,
   "id": "4ead765e",
   "metadata": {},
   "outputs": [],
   "source": [
    "# copying the graph 'G' and storing it in the variable 'G_Rich'\n",
    "G_Rich = G.copy()"
   ]
  },
  {
   "cell_type": "code",
   "execution_count": null,
   "id": "3a2207de",
   "metadata": {},
   "outputs": [],
   "source": [
    "# creating geodataframes for nodes and edges in the network\n",
    "nodes = ox.graph_to_gdfs(G_Rich, nodes=True, edges=False)\n",
    "edges = ox.graph_to_gdfs(G_Rich, nodes=False, edges=True)"
   ]
  },
  {
   "cell_type": "code",
   "execution_count": null,
   "id": "2ed70205",
   "metadata": {},
   "outputs": [],
   "source": [
    "# displaying the number of null values for each column of the geodataframes\n",
    "nodes.isna().sum()\n",
    "edges.isna().sum()"
   ]
  },
  {
   "cell_type": "code",
   "execution_count": null,
   "id": "98d2f705",
   "metadata": {},
   "outputs": [],
   "source": [
    "print(\"Out of \" + str(len(edges)) + \" edges, there are \" + str(edges[\"maxspeed\"].isnull().sum()) + \" edges that don't have a maxspeed assigned\") "
   ]
  },
  {
   "cell_type": "markdown",
   "id": "3b0645fa",
   "metadata": {},
   "source": [
    "Let assign maxspeeds to edges with missing data"
   ]
  },
  {
   "cell_type": "markdown",
   "id": "54cb9960",
   "metadata": {},
   "source": [
    "### Impute missing edge speeds and calculate edge travel times\n",
    "\n",
    "The following code and principles are adopted from G Boeing:\n",
    "\n",
    "- https://github.com/gboeing/osmnx-examples/blob/v0.13.0/notebooks/02-routing-speed-time.ipynb\n",
    "- https://osmnx.readthedocs.io/en/stable/osmnx.html#module-osmnx.speed\n",
    "   "
   ]
  },
  {
   "cell_type": "markdown",
   "id": "0ddc8979",
   "metadata": {},
   "source": [
    "**add_edge_speeds() function in OSMnx**\n",
    "- \"For highway types in the graph that have no maxspeed value on any edge, it assigns the mean of all maxspeed values in graph\".\n",
    "- \"This default mean-imputation can obviously be imprecise, and the user can override it by passing in hwy_speeds and/or fallback arguments that correspond to local speed limit standards. The user can also specify a different aggregation function (such as the median) to impute missing values from the observed values\".\n",
    "\n",
    "Please note, for simplicity, this analysis assumes the vehicle making the deliveries will always be traveling at the maximum speed. "
   ]
  },
  {
   "cell_type": "code",
   "execution_count": null,
   "id": "a916e12c",
   "metadata": {},
   "outputs": [],
   "source": [
    "# firstly, lets see the distribution of the maxspeeds in the network to determine whether using mean-imputation is viable\n",
    "\n",
    "# copying the graph edges dataframe\n",
    "edges_ms_cleaned = edges.copy()\n",
    "\n",
    "# using the errors='coerce' parameter to convert non-numeric 'maxspeed' values to NaN\n",
    "# adding the values to the 'edges_ms_cleaned' dataframe\n",
    "edges_ms_cleaned[\"maxspeed_cleaned\"] = pd.to_numeric(edges_ms_cleaned['maxspeed'], errors='coerce')"
   ]
  },
  {
   "cell_type": "code",
   "execution_count": null,
   "id": "e702c058",
   "metadata": {},
   "outputs": [],
   "source": [
    "# plotting a histogram of maxspeed\n",
    "edges_ms_cleaned.hist(column = 'maxspeed_cleaned')\n",
    "\n",
    "# maxspeed has a relatively normal distribution, therefore mean-imputation is viable method for creating synthetic data."
   ]
  },
  {
   "cell_type": "markdown",
   "id": "dce2792d",
   "metadata": {},
   "source": [
    "Now let's complete mean-imputation for the missing data"
   ]
  },
  {
   "cell_type": "code",
   "execution_count": null,
   "id": "5cfeb8ad",
   "metadata": {},
   "outputs": [],
   "source": [
    "# impute speed on all edges missing data\n",
    "G_Rich = ox.add_edge_speeds(G_Rich)\n",
    "\n",
    "# calculate travel time (seconds) for all edges\n",
    "G_Rich = ox.add_edge_travel_times(G_Rich)"
   ]
  },
  {
   "cell_type": "code",
   "execution_count": null,
   "id": "43775173",
   "metadata": {},
   "outputs": [],
   "source": [
    "# creating updated geodataframes for nodes and edges in the network with additional attributes\n",
    "nodes = ox.graph_to_gdfs(G_Rich, nodes=True, edges=False)\n",
    "edges = ox.graph_to_gdfs(G_Rich, nodes=False, edges=True)"
   ]
  },
  {
   "cell_type": "code",
   "execution_count": null,
   "id": "dcf6929a",
   "metadata": {},
   "outputs": [],
   "source": [
    "edges.isna().sum()\n",
    "# columns 'speed_kph' and 'travel_time' have no null values\n",
    "\n",
    "# displaying the updated dataframe and checking the results\n",
    "edges\n",
    "# mean-imputation was successful"
   ]
  },
  {
   "cell_type": "code",
   "execution_count": null,
   "id": "e77e7e56",
   "metadata": {},
   "outputs": [],
   "source": [
    "# displaying mean speed/time values by road type\n",
    "edges[\"highway\"] = edges[\"highway\"].astype(str)\n",
    "edges.groupby(\"highway\")[[\"length\", \"speed_kph\", \"travel_time\"]].mean().round(1)"
   ]
  },
  {
   "cell_type": "markdown",
   "id": "408459d1",
   "metadata": {},
   "source": [
    "Rather than mean-imputation, an alternative apporach may wish to assign maxspeeds manually to each highway type"
   ]
  },
  {
   "cell_type": "markdown",
   "id": "f4f6f9d4",
   "metadata": {},
   "source": [
    "### RoutePlan() function "
   ]
  },
  {
   "cell_type": "code",
   "execution_count": null,
   "id": "4fefe932",
   "metadata": {},
   "outputs": [],
   "source": [
    "# creating RoutePlan() function \n",
    "\n",
    "def RoutePlan(G, D, L):\n",
    "    ''' \n",
    "    Function to determine the shortest route between a start depot location \n",
    "    and a list of delivery locations. \n",
    "    \n",
    "    Where G is a Networkx Graph, D is the Depot\n",
    "    and L is a list of delivery locations \n",
    "    \n",
    "    Locations are to be store in a list as coordinates [(latitude,longitude)]\n",
    "    '''\n",
    "    # combining all coordinates into one list\n",
    "    locations = D + L\n",
    "    # convert the lat and long coordinates to nearest node in the graph\n",
    "    allnodes = [ox.nearest_nodes(G, coord[1], coord[0]) for coord in locations]\n",
    "    \n",
    "    # initialise the route with the first node in the list\n",
    "    route = [allnodes[0]]\n",
    "\n",
    "    # iterate through the list of nodes and find the shortest path between each consecutive pair\n",
    "    # and add each iteration of nodes to route\n",
    "    for i in range(1, len(allnodes)):\n",
    "        sp = ox.shortest_path(G, allnodes[i-1], allnodes[i], weight='travel_time') # weight is set to 'travel_time'\n",
    "        route.extend(sp[1:])\n",
    "    \n",
    "    return route"
   ]
  },
  {
   "cell_type": "markdown",
   "id": "7bf9e1a8",
   "metadata": {},
   "source": [
    "# 4. RoutePlan returns the route that will complete the deliveries in the shortest possible time.\n"
   ]
  },
  {
   "cell_type": "code",
   "execution_count": null,
   "id": "308225f5",
   "metadata": {},
   "outputs": [],
   "source": [
    "# setting the parameters prior to using the RoutePlan() function\n",
    "depot_location = [(-37.808303, 145.004701)]\n",
    "delivery_locations = [(-37.816054, 145.001029),\n",
    "                      (-37.804051, 145.024595), \n",
    "                      (-37.838866, 145.022621), \n",
    "                      (-37.827949, 144.990051),\n",
    "                      (-37.806748, 144.987905)]"
   ]
  },
  {
   "cell_type": "code",
   "execution_count": null,
   "id": "dc92f5e4",
   "metadata": {},
   "outputs": [],
   "source": [
    "# applying the RoutePlan() function and storing the results in the variable route\n",
    "route = RoutePlan(G_Rich, depot_location, delivery_locations)"
   ]
  },
  {
   "cell_type": "markdown",
   "id": "fc7984fc",
   "metadata": {},
   "source": [
    "# 5. Plot a map of the street network of the selected city with the route highlighted."
   ]
  },
  {
   "cell_type": "code",
   "execution_count": null,
   "id": "f4534e48",
   "metadata": {},
   "outputs": [],
   "source": [
    "# plotting the street network with the route highlighted\n",
    "fig, ax = ox.plot_graph_route(G_Rich, route, route_linewidth=6, node_size=0)"
   ]
  },
  {
   "cell_type": "code",
   "execution_count": null,
   "id": "ec4a184a",
   "metadata": {},
   "outputs": [],
   "source": [
    "# changing node colour and size\n",
    "\n",
    "# generating depot and delivery nodes\n",
    "locations = depot_location + delivery_locations\n",
    "allnodes = [ox.nearest_nodes(G, coord[1], coord[0]) for coord in locations]\n",
    "\n",
    "# create a node colours\n",
    "colours = ['blue' if i in allnodes[1:len(locations)] else \\\n",
    "              'green' if i in allnodes[0:] else \\\n",
    "              'grey' for i in list(G_Rich.nodes())\n",
    "              ]\n",
    "\n",
    "# node size\n",
    "node_size = [200 if i in allnodes[0:len(locations)] else \\\n",
    "             0 for i in list(G_Rich.nodes())\n",
    "             ]"
   ]
  },
  {
   "cell_type": "code",
   "execution_count": null,
   "id": "66fa24aa",
   "metadata": {
    "scrolled": true
   },
   "outputs": [],
   "source": [
    "# plotting the street network with the route highlighted\n",
    "# start node (depot location) is coloured green and the delivery nodes are coloured blue\n",
    "fig, ax = ox.plot_graph_route(G_Rich, route, orig_dest_size=0, route_linewidth=6, node_color = colours, node_size = node_size)"
   ]
  },
  {
   "cell_type": "code",
   "execution_count": null,
   "id": "e8a420dd",
   "metadata": {},
   "outputs": [],
   "source": [
    "# plotting the route on an interactive folium map\n",
    "ox.folium.plot_route_folium(G_Rich, route, route_map=st_net_m, color=\"#8b0000\", popup_attribute='speed_kph')"
   ]
  },
  {
   "cell_type": "markdown",
   "id": "daed88bb",
   "metadata": {},
   "source": [
    "Let's contrast shortest paths by length (yellow) vs by travel time (red):"
   ]
  },
  {
   "cell_type": "code",
   "execution_count": null,
   "id": "fc874a73",
   "metadata": {},
   "outputs": [],
   "source": [
    "# creating RoutePlan_length() function \n",
    "\n",
    "def RoutePlan_length(G, D, L):\n",
    "    ''' \n",
    "    Same as the RoutePlan() function but uses edge length as the weight\n",
    "    '''\n",
    "    \n",
    "    # combining all lat and lon into one list\n",
    "    locations = D + L\n",
    "    # Convert the lat-long coordinates to nearest node in the graph\n",
    "    allnodes = [ox.nearest_nodes(G, coord[1], coord[0]) for coord in locations]\n",
    "    \n",
    "    # Initialize the route with the first node\n",
    "    route = [allnodes[0]]\n",
    "\n",
    "    # Iterate through the list of nodes and find the shortest path between each consecutive pair\n",
    "    for i in range(1, len(allnodes)):\n",
    "        sp = ox.shortest_path(G, allnodes[i-1], allnodes[i], weight='length')\n",
    "        route.extend(sp[1:])\n",
    "    \n",
    "    return route"
   ]
  },
  {
   "cell_type": "code",
   "execution_count": null,
   "id": "b913723c",
   "metadata": {},
   "outputs": [],
   "source": [
    "# applying the RoutePlan() and RoutePlan_Length() functions \n",
    "route1 = RoutePlan_length(G_Rich, depot_location, delivery_locations)\n",
    "route2 = RoutePlan(G_Rich, depot_location, delivery_locations)"
   ]
  },
  {
   "cell_type": "code",
   "execution_count": null,
   "id": "b6d7cc6f",
   "metadata": {},
   "outputs": [],
   "source": [
    "# plotting the routes\n",
    "\n",
    "fig, ax = ox.plot_graph_routes(\n",
    "    G, routes=[route1, route2], route_colors=[\"y\", \"r\"], orig_dest_size=0, route_linewidth=6, node_color = colours, node_size = node_size)"
   ]
  },
  {
   "cell_type": "markdown",
   "id": "c62c1d7e",
   "metadata": {},
   "source": [
    "- Please note, an orange route indicates the deliveries are following the same path.\n",
    "\n",
    "An interesting difference between the 2 routes can be seen in the south, where the travel_time weighted route, coloured red, uses the CityLink motor which has a max speed of 80kph. Conversely, the length weighted route, uses the secondary road to the north, Swan Street, which has a maxspeed of 40kph."
   ]
  },
  {
   "cell_type": "code",
   "execution_count": null,
   "id": "abcc64ab",
   "metadata": {},
   "outputs": [],
   "source": []
  },
  {
   "cell_type": "code",
   "execution_count": null,
   "id": "4931b0de",
   "metadata": {},
   "outputs": [],
   "source": []
  },
  {
   "cell_type": "code",
   "execution_count": null,
   "id": "736a83b1",
   "metadata": {},
   "outputs": [],
   "source": []
  },
  {
   "cell_type": "markdown",
   "id": "52eddd04",
   "metadata": {},
   "source": [
    "### Traveling Salesman Problem (TSP) - additional research"
   ]
  },
  {
   "cell_type": "markdown",
   "id": "7312b8c2",
   "metadata": {},
   "source": [
    "Traveling Salesman Problem (TSP) - 'Given a set of locations and the distance between every pair of locations, the problem is to find the shortest possible route that visits each location exactly once and returns to the original location'.\n",
    "\n",
    "A down fall of the RoutePlan() function is it relies on the delivery locations being visited in a specific order. What if we want to visit all delivery locations in the fastest time possible, thereby visiting the delivery locations in any order. This is a typical TSP."
   ]
  },
  {
   "cell_type": "markdown",
   "id": "23993182",
   "metadata": {},
   "source": [
    "Using the tsp() function, G needs to be strongly connected. A directed graph is strongly connected if and only if every vertex in the graph is reachable from every other vertex). Given we are working with a street network, directionality within the network results in not all nodes between reachable. To get around this we must make the graph undirected.\n",
    "\n",
    "https://networkx.org/documentation/stable/reference/algorithms/generated/networkx.algorithms.components.is_strongly_connected.html#networkx.algorithms.components.is_strongly_connected\n",
    "\n",
    "\n",
    "traveling_salesman_problem() function in networkx\n",
    "https://networkx.org/documentation/stable/reference/algorithms/generated/networkx.algorithms.approximation.traveling_salesman.traveling_salesman_problem.html\n"
   ]
  },
  {
   "cell_type": "code",
   "execution_count": null,
   "id": "582670eb",
   "metadata": {},
   "outputs": [],
   "source": [
    "G_Rich_tsp = G_Rich.copy()\n",
    "\n",
    "# making the graph undirected\n",
    "G_Rich_tsp = G_Rich_tsp.to_undirected()\n",
    "\n",
    "locations = depot_location + delivery_locations \n",
    "# convert the lat-lon coordinates to nearest node in the graph\n",
    "allnodes = [ox.nearest_nodes(G_Rich_tsp, coord[1], coord[0]) for coord in locations]\n"
   ]
  },
  {
   "cell_type": "code",
   "execution_count": null,
   "id": "4fa230b1",
   "metadata": {},
   "outputs": [],
   "source": [
    "route_tsp = nx.approximation.traveling_salesman_problem(G_Rich_tsp, nodes=allnodes, weight='travel_time')"
   ]
  },
  {
   "cell_type": "code",
   "execution_count": null,
   "id": "7e9b19ad",
   "metadata": {},
   "outputs": [],
   "source": [
    "route_tsp"
   ]
  },
  {
   "cell_type": "code",
   "execution_count": null,
   "id": "be4472b9",
   "metadata": {},
   "outputs": [],
   "source": [
    "# plotting route_tsp\n",
    "fig, ax = ox.plot_graph_route(G_Rich_tsp, route_tsp, route_color='red', route_linewidth=6, node_size=1, bgcolor='k')"
   ]
  },
  {
   "cell_type": "markdown",
   "id": "75331e4a",
   "metadata": {},
   "source": [
    "Although this route returns to the origin node (cycle=True is default) and ignores edge directionality, it's still interesting to compare the route_tsp to the previous routes. "
   ]
  },
  {
   "cell_type": "code",
   "execution_count": null,
   "id": "bc9d903e",
   "metadata": {},
   "outputs": [],
   "source": []
  },
  {
   "cell_type": "code",
   "execution_count": null,
   "id": "2bad3b89",
   "metadata": {},
   "outputs": [],
   "source": []
  },
  {
   "cell_type": "code",
   "execution_count": null,
   "id": "9e38b6cf",
   "metadata": {},
   "outputs": [],
   "source": []
  },
  {
   "cell_type": "code",
   "execution_count": null,
   "id": "065287c5",
   "metadata": {},
   "outputs": [],
   "source": []
  }
 ],
 "metadata": {
  "kernelspec": {
   "display_name": "Python 3 (ipykernel)",
   "language": "python",
   "name": "python3"
  },
  "language_info": {
   "codemirror_mode": {
    "name": "ipython",
    "version": 3
   },
   "file_extension": ".py",
   "mimetype": "text/x-python",
   "name": "python",
   "nbconvert_exporter": "python",
   "pygments_lexer": "ipython3",
   "version": "3.11.0"
  }
 },
 "nbformat": 4,
 "nbformat_minor": 5
}
